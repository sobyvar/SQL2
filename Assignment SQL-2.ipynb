{
 "cells": [
  {
   "cell_type": "code",
   "execution_count": 1,
   "metadata": {},
   "outputs": [],
   "source": [
    "import pandas as pd\n",
    "import numpy as np\n",
    "from pandas import DataFrame, Series\n",
    "from pandasql import sqldf\n",
    "pysqldf = lambda q: sqldf(q, globals())\n",
    "from pandasql import sqldf"
   ]
  },
  {
   "cell_type": "code",
   "execution_count": 2,
   "metadata": {},
   "outputs": [],
   "source": [
    "sqladb=pd.read_csv('https://archive.ics.uci.edu/ml/machine-learning-databases/adult/adult.data',names=['Age','workclass','fnlwgt','education','education-num','marital-status','occupation','relationship','race','sex','capital-gain','capital-loss','hours-per-week','native-country','>50K, <=50K'])\n",
    "\n",
    "def trimAllColumns(df):\n",
    "  trimStrings = lambda x:x.strip() if type(x) is str else x\n",
    "  return df.applymap(trimStrings)\n",
    "\n",
    "sqladb = trimAllColumns(sqladb)\n",
    "\n",
    "sqladb.columns = sqladb.columns.str.replace('-','_')"
   ]
  },
  {
   "cell_type": "code",
   "execution_count": 6,
   "metadata": {},
   "outputs": [
    {
     "name": "stdout",
     "output_type": "stream",
     "text": [
      "(0, 39, 'State-gov', 77516, 'Bachelors', 13, 'Never-married', 'Adm-clerical', 'Not-in-family', 'White', 'Male', 2174, 0, 40, 'United-States', '<=50K')\n",
      "(1, 50, 'Self-emp-not-inc', 83311, 'Bachelors', 13, 'Married-civ-spouse', 'Exec-managerial', 'Husband', 'White', 'Male', 0, 0, 13, 'United-States', '<=50K')\n",
      "(2, 38, 'Private', 215646, 'HS-grad', 9, 'Divorced', 'Handlers-cleaners', 'Not-in-family', 'White', 'Male', 0, 0, 40, 'United-States', '<=50K')\n",
      "(3, 53, 'Private', 234721, '11th', 7, 'Married-civ-spouse', 'Handlers-cleaners', 'Husband', 'Black', 'Male', 0, 0, 40, 'United-States', '<=50K')\n",
      "(4, 28, 'Private', 338409, 'Bachelors', 13, 'Married-civ-spouse', 'Prof-specialty', 'Wife', 'Black', 'Female', 0, 0, 40, 'Cuba', '<=50K')\n",
      "(5, 37, 'Private', 284582, 'Masters', 14, 'Married-civ-spouse', 'Exec-managerial', 'Wife', 'White', 'Female', 0, 0, 40, 'United-States', '<=50K')\n",
      "(6, 49, 'Private', 160187, '9th', 5, 'Married-spouse-absent', 'Other-service', 'Not-in-family', 'Black', 'Female', 0, 0, 16, 'Jamaica', '<=50K')\n",
      "(7, 52, 'Self-emp-not-inc', 209642, 'HS-grad', 9, 'Married-civ-spouse', 'Exec-managerial', 'Husband', 'White', 'Male', 0, 0, 45, 'United-States', '>50K')\n",
      "(8, 31, 'Private', 45781, 'Masters', 14, 'Never-married', 'Prof-specialty', 'Not-in-family', 'White', 'Female', 14084, 0, 50, 'United-States', '>50K')\n",
      "(9, 42, 'Private', 159449, 'Bachelors', 13, 'Married-civ-spouse', 'Exec-managerial', 'Husband', 'White', 'Male', 5178, 0, 40, 'United-States', '>50K')\n"
     ]
    }
   ],
   "source": [
    "# Create a sqlalchemy engine using sample from the data set\n",
    "from sqlalchemy import create_engine\n",
    "\n",
    "db_uri = \"sqlite:///db.sqlite\"\n",
    "engine = create_engine(db_uri)\n",
    "\n",
    "#result = engine.execute('drop table \"TPOP9\" ');\n",
    "sqladb.to_sql('TPOP9',con=engine)\n",
    "result = engine.execute('SELECT * FROM '\n",
    "                        '\"TPOP9\" limit 10')\n",
    "for _r in result:\n",
    "   print(_r)"
   ]
  },
  {
   "cell_type": "code",
   "execution_count": 7,
   "metadata": {},
   "outputs": [
    {
     "name": "stdout",
     "output_type": "stream",
     "text": [
      "(0, 39, 'Private', 77516, 'Bachelors', 13, 'Never-married', 'Adm-clerical', 'Not-in-family', 'White', 'Male', 2174, 0, 40, 'United-States', '<=50K')\n",
      "(3, 53, 'Private', 234721, '11th', 7, 'Married-civ-spouse', 'Handlers-cleaners', 'Husband', 'Black', 'Female', 0, 0, 40, 'United-States', '<=50K')\n"
     ]
    }
   ],
   "source": [
    "# Write 2 basic update queries\n",
    "result =engine.execute('update \"TPOP9\" set workclass=\"Private\" where fnlwgt==77516')\n",
    "result =engine.execute('update \"TPOP9\" set sex=\"Female\" where fnlwgt==234721')\n",
    "result = engine.execute('SELECT * FROM '\n",
    "                        '\"TPOP9\"  where fnlwgt IN (77516,234721)')\n",
    "for _r in result:\n",
    "   print(_r)"
   ]
  },
  {
   "cell_type": "code",
   "execution_count": 8,
   "metadata": {},
   "outputs": [],
   "source": [
    "# Write 2 delete queries\n",
    "result =engine.execute('DELETE FROM \"TPOP9\" where fnlwgt==45781')\n",
    "result =engine.execute('DELETE FROM \"TPOP9\" where fnlwgt==159449')\n",
    "result = engine.execute('SELECT * FROM '\n",
    "                        '\"TPOP9\"  where fnlwgt IN (45781,159449)')\n",
    "for _r in result:\n",
    "   print(_r)"
   ]
  },
  {
   "cell_type": "code",
   "execution_count": 9,
   "metadata": {},
   "outputs": [
    {
     "name": "stdout",
     "output_type": "stream",
     "text": [
      "(1, 50, 'Self-emp-not-inc', 83311, 'Bachelors', 13, 'Married-civ-spouse', 'Exec-managerial', 'Husband', 'White', 'Male', 0, 0, 13, 'United-States', '<=50K')\n",
      "(16474, 54, 'Self-emp-not-inc', 83311, 'Prof-school', 15, 'Married-civ-spouse', 'Prof-specialty', 'Husband', 'White', 'Male', 0, 0, 30, 'United-States', '>50K')\n"
     ]
    }
   ],
   "source": [
    "# Write 2 filter queries\n",
    "result = engine.execute('SELECT * FROM '\n",
    "                        '\"TPOP9\"  where fnlwgt == 160187')\n",
    "result = engine.execute('SELECT * FROM '\n",
    "                        '\"TPOP9\"  where fnlwgt == 83311')\n",
    "for _r in result:\n",
    "   print(_r)"
   ]
  },
  {
   "cell_type": "code",
   "execution_count": 10,
   "metadata": {},
   "outputs": [
    {
     "name": "stdout",
     "output_type": "stream",
     "text": [
      "Number of male count is (21786,)\n",
      "Capital gain is (35070062,)\n"
     ]
    }
   ],
   "source": [
    "# Write 2 function queries\n",
    "result = engine.execute('SELECT count(*) FROM '\n",
    "                        '\"TPOP9\"  where sex == \"Male\" ')\n",
    "for _r in result:\n",
    "   print('Number of male count is',_r)\n",
    "    \n",
    "result = engine.execute('SELECT sum(capital_gain) FROM '\n",
    "                        '\"TPOP9\"  ')\n",
    "for _r in result:\n",
    "   print('Capital gain is',_r)"
   ]
  },
  {
   "cell_type": "code",
   "execution_count": null,
   "metadata": {},
   "outputs": [],
   "source": []
  }
 ],
 "metadata": {
  "kernelspec": {
   "display_name": "Python 3",
   "language": "python",
   "name": "python3"
  },
  "language_info": {
   "codemirror_mode": {
    "name": "ipython",
    "version": 3
   },
   "file_extension": ".py",
   "mimetype": "text/x-python",
   "name": "python",
   "nbconvert_exporter": "python",
   "pygments_lexer": "ipython3",
   "version": "3.6.6"
  }
 },
 "nbformat": 4,
 "nbformat_minor": 2
}
